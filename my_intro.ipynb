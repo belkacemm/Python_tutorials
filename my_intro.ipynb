{
 "cells": [
  {
   "cell_type": "markdown",
   "id": "9897db71-2cb2-40d2-b6aa-0c7cad98e179",
   "metadata": {},
   "source": [
    "Install pyarrow and pandas as follows:\n",
    "\n",
    "!python -m pip install pyarrow\n",
    "\n",
    "!python -m pip install pandas"
   ]
  },
  {
   "cell_type": "code",
   "execution_count": 1,
   "id": "1707feba-5dfa-4546-a90f-80aad37cf21d",
   "metadata": {},
   "outputs": [],
   "source": [
    "import pandas as pd"
   ]
  },
  {
   "cell_type": "markdown",
   "id": "437906df-cd04-4687-9422-16e7d2c8ed41",
   "metadata": {},
   "source": [
    "# Series"
   ]
  },
  {
   "cell_type": "markdown",
   "id": "062a7d3c-a2c8-4972-b68f-791fefe8bb96",
   "metadata": {},
   "source": [
    "## Create a pandas Series"
   ]
  },
  {
   "cell_type": "code",
   "execution_count": 2,
   "id": "e64cab78-4f84-4260-86f0-cba360fbf044",
   "metadata": {},
   "outputs": [],
   "source": [
    "ser = pd.Series(data=[60, 50, 40, 80, 70, 90, 100], index=['John', 'Jack', 'Mike', 'Tom', 'Phil', 'Bob', 'Mark'])"
   ]
  },
  {
   "cell_type": "code",
   "execution_count": 3,
   "id": "3ec61227-1a9d-48f8-be9e-0241ff433ea7",
   "metadata": {},
   "outputs": [
    {
     "data": {
      "text/plain": [
       "John     60\n",
       "Jack     50\n",
       "Mike     40\n",
       "Tom      80\n",
       "Phil     70\n",
       "Bob      90\n",
       "Mark    100\n",
       "dtype: int64"
      ]
     },
     "execution_count": 3,
     "metadata": {},
     "output_type": "execute_result"
    }
   ],
   "source": [
    "ser"
   ]
  },
  {
   "cell_type": "markdown",
   "id": "34c902c7-4316-454a-a6d1-fe4fbc74e512",
   "metadata": {},
   "source": [
    "## Show all indecises of the pandas Series"
   ]
  },
  {
   "cell_type": "code",
   "execution_count": 4,
   "id": "8d71078c-d366-46a3-a17a-841104fb541a",
   "metadata": {},
   "outputs": [
    {
     "data": {
      "text/plain": [
       "Index(['John', 'Jack', 'Mike', 'Tom', 'Phil', 'Bob', 'Mark'], dtype='object')"
      ]
     },
     "execution_count": 4,
     "metadata": {},
     "output_type": "execute_result"
    }
   ],
   "source": [
    "ser.index"
   ]
  },
  {
   "cell_type": "markdown",
   "id": "cd289767-7bd4-4f5c-a627-15bda9bc0a0e",
   "metadata": {},
   "source": [
    "## Access an element by index"
   ]
  },
  {
   "cell_type": "code",
   "execution_count": 5,
   "id": "82bdd802-c492-488a-90d9-98343559d455",
   "metadata": {},
   "outputs": [
    {
     "data": {
      "text/plain": [
       "80"
      ]
     },
     "execution_count": 5,
     "metadata": {},
     "output_type": "execute_result"
    }
   ],
   "source": [
    "ser['Tom']"
   ]
  },
  {
   "cell_type": "markdown",
   "id": "b6d64e58-cc99-4b3c-a3f3-ec1949272e01",
   "metadata": {},
   "source": [
    "## Access multiple elements"
   ]
  },
  {
   "cell_type": "code",
   "execution_count": 6,
   "id": "8048b4d9-4efb-41a4-97c1-abf903bc788e",
   "metadata": {},
   "outputs": [
    {
     "data": {
      "text/plain": [
       "Mike     40\n",
       "Phil     70\n",
       "Mark    100\n",
       "dtype: int64"
      ]
     },
     "execution_count": 6,
     "metadata": {},
     "output_type": "execute_result"
    }
   ],
   "source": [
    "ser[['Mike', 'Phil', 'Mark']] "
   ]
  },
  {
   "cell_type": "markdown",
   "id": "a6ff45fe-f3d5-4881-8085-4ae166b43a06",
   "metadata": {},
   "source": [
    "## Check if an index is in the Series"
   ]
  },
  {
   "cell_type": "code",
   "execution_count": 7,
   "id": "7a1df6c3-8c8f-4bd2-bc4a-4c7dfaa80f85",
   "metadata": {},
   "outputs": [
    {
     "data": {
      "text/plain": [
       "True"
      ]
     },
     "execution_count": 7,
     "metadata": {},
     "output_type": "execute_result"
    }
   ],
   "source": [
    "'Jack' in ser"
   ]
  },
  {
   "cell_type": "code",
   "execution_count": 8,
   "id": "c61802c5-0017-4d4c-9ba5-cf72fe17415e",
   "metadata": {},
   "outputs": [
    {
     "data": {
      "text/plain": [
       "False"
      ]
     },
     "execution_count": 8,
     "metadata": {},
     "output_type": "execute_result"
    }
   ],
   "source": [
    "'Chris' in ser"
   ]
  },
  {
   "cell_type": "code",
   "execution_count": 10,
   "id": "54f539ed-6c95-4921-b4c6-6f5b0ce93097",
   "metadata": {},
   "outputs": [
    {
     "data": {
      "text/plain": [
       "John     90.0\n",
       "Jack     75.0\n",
       "Mike     60.0\n",
       "Tom     120.0\n",
       "Phil    105.0\n",
       "Bob     135.0\n",
       "Mark    150.0\n",
       "dtype: float64"
      ]
     },
     "execution_count": 10,
     "metadata": {},
     "output_type": "execute_result"
    }
   ],
   "source": [
    "ser * 1.5"
   ]
  },
  {
   "cell_type": "code",
   "execution_count": 11,
   "id": "96de0ac7-30ef-46f4-8b9a-04f711d64d85",
   "metadata": {},
   "outputs": [
    {
     "data": {
      "text/plain": [
       "John     3600\n",
       "Jack     2500\n",
       "Mike     1600\n",
       "Tom      6400\n",
       "Phil     4900\n",
       "Bob      8100\n",
       "Mark    10000\n",
       "dtype: int64"
      ]
     },
     "execution_count": 11,
     "metadata": {},
     "output_type": "execute_result"
    }
   ],
   "source": [
    "ser ** 2"
   ]
  },
  {
   "cell_type": "markdown",
   "id": "24998535-8453-46a9-a016-88650df10f52",
   "metadata": {},
   "source": [
    "# DataFrame"
   ]
  },
  {
   "cell_type": "markdown",
   "id": "7ecda5a9-9f3b-49d3-95fb-c86edb3ec8f2",
   "metadata": {},
   "source": [
    "## Create a DataFrame from a dictionary of pandas series"
   ]
  },
  {
   "cell_type": "code",
   "execution_count": 13,
   "id": "38fcdbfa-3a41-4abe-b649-b789c56aef00",
   "metadata": {},
   "outputs": [],
   "source": [
    "dict = {'Tom' : pd.Series([75., 70., 90.], index=['Math', 'Chemistry', 'Physics']),\n",
    "     'Mike' : pd.Series([80., 65., 85., 90.], index=['Math', 'Reading', 'Science', 'Dance'])}"
   ]
  },
  {
   "cell_type": "code",
   "execution_count": 16,
   "id": "b27f3c01-71bc-4e40-98b8-3b330d5ddb82",
   "metadata": {},
   "outputs": [],
   "source": [
    "df = pd.DataFrame(dict)"
   ]
  },
  {
   "cell_type": "code",
   "execution_count": 17,
   "id": "41201c0e-a938-4ea0-8218-1d7250ae6878",
   "metadata": {},
   "outputs": [
    {
     "data": {
      "text/html": [
       "<div>\n",
       "<style scoped>\n",
       "    .dataframe tbody tr th:only-of-type {\n",
       "        vertical-align: middle;\n",
       "    }\n",
       "\n",
       "    .dataframe tbody tr th {\n",
       "        vertical-align: top;\n",
       "    }\n",
       "\n",
       "    .dataframe thead th {\n",
       "        text-align: right;\n",
       "    }\n",
       "</style>\n",
       "<table border=\"1\" class=\"dataframe\">\n",
       "  <thead>\n",
       "    <tr style=\"text-align: right;\">\n",
       "      <th></th>\n",
       "      <th>Tom</th>\n",
       "      <th>Mike</th>\n",
       "    </tr>\n",
       "  </thead>\n",
       "  <tbody>\n",
       "    <tr>\n",
       "      <th>Chemistry</th>\n",
       "      <td>70.0</td>\n",
       "      <td>NaN</td>\n",
       "    </tr>\n",
       "    <tr>\n",
       "      <th>Dance</th>\n",
       "      <td>NaN</td>\n",
       "      <td>90.0</td>\n",
       "    </tr>\n",
       "    <tr>\n",
       "      <th>Math</th>\n",
       "      <td>75.0</td>\n",
       "      <td>80.0</td>\n",
       "    </tr>\n",
       "    <tr>\n",
       "      <th>Physics</th>\n",
       "      <td>90.0</td>\n",
       "      <td>NaN</td>\n",
       "    </tr>\n",
       "    <tr>\n",
       "      <th>Reading</th>\n",
       "      <td>NaN</td>\n",
       "      <td>65.0</td>\n",
       "    </tr>\n",
       "    <tr>\n",
       "      <th>Science</th>\n",
       "      <td>NaN</td>\n",
       "      <td>85.0</td>\n",
       "    </tr>\n",
       "  </tbody>\n",
       "</table>\n",
       "</div>"
      ],
      "text/plain": [
       "            Tom  Mike\n",
       "Chemistry  70.0   NaN\n",
       "Dance       NaN  90.0\n",
       "Math       75.0  80.0\n",
       "Physics    90.0   NaN\n",
       "Reading     NaN  65.0\n",
       "Science     NaN  85.0"
      ]
     },
     "execution_count": 17,
     "metadata": {},
     "output_type": "execute_result"
    }
   ],
   "source": [
    "df"
   ]
  },
  {
   "cell_type": "code",
   "execution_count": null,
   "id": "9ff9c983-d6cc-440c-b4ad-05150acb26f7",
   "metadata": {},
   "outputs": [],
   "source": []
  }
 ],
 "metadata": {
  "kernelspec": {
   "display_name": "Python 3 (ipykernel)",
   "language": "python",
   "name": "python3"
  },
  "language_info": {
   "codemirror_mode": {
    "name": "ipython",
    "version": 3
   },
   "file_extension": ".py",
   "mimetype": "text/x-python",
   "name": "python",
   "nbconvert_exporter": "python",
   "pygments_lexer": "ipython3",
   "version": "3.11.5"
  }
 },
 "nbformat": 4,
 "nbformat_minor": 5
}
